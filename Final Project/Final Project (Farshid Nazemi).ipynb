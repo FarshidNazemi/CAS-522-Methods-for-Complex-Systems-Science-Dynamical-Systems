{
 "cells": [
  {
   "cell_type": "code",
   "execution_count": 1,
   "id": "024b7454-031a-4081-a1a2-0c4ee188b623",
   "metadata": {},
   "outputs": [],
   "source": [
    "from scipy.integrate import odeint\n",
    "import numpy as np\n",
    "import matplotlib.pyplot as plt"
   ]
  },
  {
   "cell_type": "code",
   "execution_count": 2,
   "id": "6332a6ad-4e62-4229-95c9-5ea73989eb45",
   "metadata": {},
   "outputs": [],
   "source": [
    "# initial conditions\n",
    "x1_0 = 0\n",
    "x2_0 = 800\n",
    "x0 = [x1_0,x2_0]"
   ]
  },
  {
   "cell_type": "code",
   "execution_count": 5,
   "id": "1a91f7a4-7dd3-4da0-984b-a9745e5c917d",
   "metadata": {},
   "outputs": [],
   "source": [
    "#Successional Sequence I\n",
    "def odes_seqI(x, t):\n",
    "    x1, x2 = x\n",
    "    \n",
    "    if t == 0:\n",
    "        dx1dt = 0\n",
    "        dx2dt = 0\n",
    "    else:\n",
    "        if t < 25:\n",
    "            a10 = 0.006 #fixed\n",
    "            a02 = 0.0125 \n",
    "            a12 = 0.009\n",
    "            a21 = 0.1 #fixed\n",
    "        else:\n",
    "            a10 = 0.006 #fixed\n",
    "            a02 = 0.004\n",
    "            a12 = 0.0188\n",
    "            a21 = 0.1 #fixed\n",
    "\n",
    "        dx1dt = a10 * x1 - a21 * x1 + a12 * x2\n",
    "        dx2dt = 10 - a10 * x1 + a21 * x1 - a12 * x2 - a02 * x2\n",
    "\n",
    "    return [dx1dt, dx2dt]"
   ]
  },
  {
   "cell_type": "code",
   "execution_count": 69,
   "id": "0196609a-8056-4229-9d38-00ed5822816b",
   "metadata": {},
   "outputs": [],
   "source": [
    "# Add a large time point for evaluation\n",
    "times_to_evaluate = [0, 1, 24, 100, 200, 400, 600, 1000, 10000]\n",
    "\n",
    "# Evaluate the solution at specific time points\n",
    "x_evaluated = odeint(odes_seqI, x0, times_to_evaluate)\n",
    "\n",
    "#Other values\n",
    "dxdt=[]\n",
    "z10=[]\n",
    "z20=[]\n",
    "f21=[]\n",
    "f12=[]\n",
    "y02=[]\n",
    "a10 = 0.006\n",
    "a21 = 0.1\n",
    "for i in range (len(times_to_evaluate)):\n",
    "    dxdt.append(odes_seqI(x_evaluated [i], times_to_evaluate[i]))\n",
    "    if i==0:\n",
    "        z10.append(0)\n",
    "        z20.append(10)\n",
    "        f21.append(0)\n",
    "        f12.append(0)\n",
    "        y02.append(10)\n",
    "    else:\n",
    "        if i<3:\n",
    "            a02 = 0.0125\n",
    "            a12 = 0.009\n",
    "        else:\n",
    "            a02 = 0.004\n",
    "            a12 = 0.0188\n",
    "\n",
    "        z10.append(a10*x_evaluated [i,0])\n",
    "        z20.append(10-a10*x_evaluated [i,0])\n",
    "        f21.append(2 * a10 * x_evaluated[i, 0] - a21 * x_evaluated[i, 0] + a12 * x_evaluated[i, 1])\n",
    "        f12.append(20 - 2 * a02 * x_evaluated[i, 1])\n",
    "        y02.append(a02*x_evaluated[i, 1])"
   ]
  },
  {
   "cell_type": "code",
   "execution_count": 71,
   "id": "d8a2f85f-a40e-403b-aeff-3e2bf6d15def",
   "metadata": {},
   "outputs": [
    {
     "data": {
      "text/plain": [
       "[0,\n",
       " 0.16996063210813617,\n",
       " 1.3186955378336656,\n",
       " 11.316924251351011,\n",
       " 8.125376603250102,\n",
       " 4.1885730631234654,\n",
       " 2.1591792649107475,\n",
       " 0.5737644949685219,\n",
       " -5.377302159104147e-09]"
      ]
     },
     "execution_count": 71,
     "metadata": {},
     "output_type": "execute_result"
    }
   ],
   "source": [
    "f12"
   ]
  },
  {
   "cell_type": "code",
   "execution_count": null,
   "id": "92a225ad-6e00-466d-b901-0f046897355f",
   "metadata": {},
   "outputs": [],
   "source": [
    "# Calculate y02 = a02 * x2 at each time point\n",
    "y02_values = []\n",
    "\n",
    "for i, t in enumerate(times_to_evaluate):\n",
    "    # Determine the value of a02 based on the time\n",
    "    a02 = a02_initial if t < 25 else a02_final\n",
    "    \n",
    "    # Calculate y02\n",
    "    y02 = a02 * x_evaluated[i, 1]\n",
    "    \n",
    "    # Calculate additional quantities\n",
    "    a10 = 0.006 if t < 25 else 0.006\n",
    "    a21 = 0.1\n",
    "    a12 = 0.009\n",
    "    z10 = a10 * x_evaluated[i, 0]\n",
    "    z20 = 10 - a10 * x_evaluated[i, 0]\n",
    "    # Initialize arrays to store results\n",
    "    dx1dt_values = []\n",
    "    dx2dt_values = []\n",
    "\n",
    "    # Evaluate the derivatives at specific time points\n",
    "    for t in times_to_evaluate:\n",
    "        dx1dt, dx2dt = odes_seqI(x0, t)\n",
    "        dx1dt_values.append(dx1dt)\n",
    "        dx2dt_values.append(dx2dt)\n",
    "    f21 = 2 * a10 * x_evaluated[i, 0] - a21 * x_evaluated[i, 0] + a12 * x_evaluated[i, 1]\n",
    "    f12 = 20 - 2 * a02 * x_evaluated[i, 1]\n",
    "\n",
    "    # Round the values to two digits after the decimal point\n",
    "    x1_rounded = round(x_evaluated[i, 0], 2)\n",
    "    x2_rounded = round(x_evaluated[i, 1], 2)\n",
    "    y02_rounded = round(y02, 2)\n",
    "    z10_rounded = round(z10, 2)\n",
    "    z20_rounded = round(z20, 2)\n",
    "    dx1dt_rounded = round(dx1dt, 2)\n",
    "    dx2dt_rounded = round(dx2dt, 2)\n",
    "    f21_rounded = round(f21, 2)\n",
    "    f12_rounded = round(f12, 2)\n",
    "\n",
    "    # Determine the state based on the time\n",
    "    if t == 0:\n",
    "        state = \"BG\"\n",
    "    elif t == 1:\n",
    "        state = \"ES1\"\n",
    "    elif t == 24:\n",
    "        state = \"ES2\"\n",
    "    elif t == 100:\n",
    "        state = \"ES3\"\n",
    "    elif t == 200:\n",
    "        state = \"MS1\"\n",
    "    elif t == 400:\n",
    "        state = \"MS2\"\n",
    "    elif t == 600:\n",
    "        state = \"MS3\"\n",
    "    elif t == 1000:\n",
    "        state = \"LS\"\n",
    "    elif t == 10000:\n",
    "        state = \"SS\"\n",
    "    else:\n",
    "        state = \"Unknown\"\n",
    "\n",
    "    # Display the results\n",
    "    print(f\"At time t={t}, state={state}:\")\n",
    "    print(f\"x1 = {x1_rounded}, x2 = {x2_rounded}, y02 = {y02_rounded}\")\n",
    "    print(f\"z10 = {z10_rounded}, z20 = {z20_rounded}\")\n",
    "    print(f\"dx1/dt = {dx1dt_rounded}, dx2/dt = {dx2dt_rounded}\")\n",
    "    print(f\"f21 = {f21_rounded}, f12 = {f12_rounded}\")\n",
    "    print()"
   ]
  },
  {
   "cell_type": "code",
   "execution_count": null,
   "id": "0f08c61c-827f-4869-8551-38d278c97946",
   "metadata": {},
   "outputs": [],
   "source": []
  },
  {
   "cell_type": "code",
   "execution_count": null,
   "id": "dcc65ced-ca99-412b-993b-72c76d97b80c",
   "metadata": {},
   "outputs": [],
   "source": []
  }
 ],
 "metadata": {
  "kernelspec": {
   "display_name": "Python 3 (ipykernel)",
   "language": "python",
   "name": "python3"
  },
  "language_info": {
   "codemirror_mode": {
    "name": "ipython",
    "version": 3
   },
   "file_extension": ".py",
   "mimetype": "text/x-python",
   "name": "python",
   "nbconvert_exporter": "python",
   "pygments_lexer": "ipython3",
   "version": "3.9.13"
  }
 },
 "nbformat": 4,
 "nbformat_minor": 5
}
