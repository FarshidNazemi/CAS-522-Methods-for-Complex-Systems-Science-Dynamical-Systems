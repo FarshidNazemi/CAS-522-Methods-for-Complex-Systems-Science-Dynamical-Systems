{
 "cells": [
  {
   "cell_type": "code",
   "execution_count": 96,
   "id": "024b7454-031a-4081-a1a2-0c4ee188b623",
   "metadata": {},
   "outputs": [],
   "source": [
    "from scipy.integrate import odeint\n",
    "import numpy as np\n",
    "import matplotlib.pyplot as plt\n",
    "import pandas as pd"
   ]
  },
  {
   "cell_type": "code",
   "execution_count": 97,
   "id": "6332a6ad-4e62-4229-95c9-5ea73989eb45",
   "metadata": {},
   "outputs": [],
   "source": [
    "# initial conditions\n",
    "x1_0 = 0\n",
    "x2_0 = 800\n",
    "x0 = [x1_0,x2_0]"
   ]
  },
  {
   "cell_type": "code",
   "execution_count": 98,
   "id": "1a91f7a4-7dd3-4da0-984b-a9745e5c917d",
   "metadata": {},
   "outputs": [],
   "source": [
    "#Successional Sequence I Differential Equations\n",
    "def odes_seqI(x, t):\n",
    "    x1, x2 = x\n",
    "    \n",
    "    if t == 0:\n",
    "        dx1dt = 0\n",
    "        dx2dt = 0\n",
    "    else:\n",
    "        if t < 25:\n",
    "            a10 = 0.006 #fixed\n",
    "            a02 = 0.0125 \n",
    "            a12 = 0.009\n",
    "            a21 = 0.1 #fixed\n",
    "        else:\n",
    "            a10 = 0.006 #fixed\n",
    "            a02 = 0.004\n",
    "            a12 = 0.0188\n",
    "            a21 = 0.1 #fixed\n",
    "\n",
    "        dx1dt = a10 * x1 - a21 * x1 + a12 * x2\n",
    "        dx2dt = 10 - a10 * x1 + a21 * x1 - a12 * x2 - a02 * x2\n",
    "\n",
    "    return [dx1dt, dx2dt]"
   ]
  },
  {
   "cell_type": "code",
   "execution_count": 99,
   "id": "f296e956-fdb5-461f-b447-c57087493047",
   "metadata": {},
   "outputs": [],
   "source": [
    "#Successional Sequence II Differential Equations\n",
    "def odes_seqII(x, t):\n",
    "    x1, x2 = x\n",
    "    \n",
    "    if t == 0:\n",
    "        dx1dt = 0\n",
    "        dx2dt = 0\n",
    "    else:\n",
    "        if t < 300:\n",
    "            a10 = 0.0003 #fixed\n",
    "            a02 = 0.0125 \n",
    "            a12 = 0.0003\n",
    "            a21 = 0.00035 #fixed\n",
    "        else:\n",
    "            a10 = 0.0003 #fixed\n",
    "            a02 = 0.004 \n",
    "            a12 = 0.0002\n",
    "            a21 = 0.00035 #fixed\n",
    "\n",
    "        dx1dt = a10 * x1 - a21 * x1 + a12 * x2\n",
    "        dx2dt = 10 - a10 * x1 + a21 * x1 - a12 * x2 - a02 * x2\n",
    "\n",
    "    return [dx1dt, dx2dt]"
   ]
  },
  {
   "cell_type": "code",
   "execution_count": 117,
   "id": "0196609a-8056-4229-9d38-00ed5822816b",
   "metadata": {},
   "outputs": [],
   "source": [
    "#Succession Sequence I - Table 2\n",
    "# Add a large time point for evaluation\n",
    "times_to_evaluate = [0, 1, 24, 100, 200, 400, 600, 1000, 10000]\n",
    "evolution_stages = ['BG', 'ES1', 'ES2', 'ES3', 'MS1', 'MS2', 'MS3', 'LS', 'SS']\n",
    "\n",
    "# Evaluate the solution at specific time points\n",
    "x_evaluated = odeint(odes_seqI, x0, times_to_evaluate)\n",
    "\n",
    "#Other values\n",
    "dxdt=[]\n",
    "z10=[]\n",
    "z20=[]\n",
    "f21=[]\n",
    "f12=[]\n",
    "y02=[]\n",
    "a10 = 0.006\n",
    "a21 = 0.1\n",
    "for i in range (len(times_to_evaluate)):\n",
    "    dxdt.append(odes_seqI(x_evaluated [i], times_to_evaluate[i]))\n",
    "    if i==0:\n",
    "        z10.append(0)\n",
    "        z20.append(10)\n",
    "        f21.append(0)\n",
    "        f12.append(0)\n",
    "        y02.append(10)\n",
    "    else:\n",
    "        if i<3:\n",
    "            a02 = 0.0125\n",
    "            a12 = 0.009\n",
    "        else:\n",
    "            a02 = 0.004\n",
    "            a12 = 0.0188\n",
    "\n",
    "        z10.append(a10*x_evaluated [i,0])\n",
    "        z20.append(10-a10*x_evaluated [i,0])\n",
    "        f21.append(a21*x_evaluated [i,0])\n",
    "        f12.append(a12*x_evaluated [i,1])\n",
    "        y02.append(a02*x_evaluated[i, 1])"
   ]
  },
  {
   "cell_type": "code",
   "execution_count": 119,
   "id": "6914dd94-109a-4f26-93ee-dbb503a9d521",
   "metadata": {},
   "outputs": [
    {
     "name": "stdout",
     "output_type": "stream",
     "text": [
      "Resulting DataFrame:\n",
      "  Succession Stage  Time   z10    z20    f21    f12      x1       x2  x1_dot  \\\n",
      "0               BG     0  0.00  10.00   0.00   0.00    0.00   800.00    0.00   \n",
      "1              ES1     1  0.04   9.96   0.68   7.14    6.84   793.20    6.50   \n",
      "2              ES2    24  0.39   9.61   6.46   6.73   64.58   747.25    0.65   \n",
      "3              ES3   100  1.24   8.76  20.67  20.41  206.73  1085.38    0.97   \n",
      "4              MS1   200  1.74   8.26  28.94  27.91  289.44  1484.33    0.70   \n",
      "5              MS2   400  2.35   7.65  39.15  37.16  391.46  1976.43    0.36   \n",
      "6              MS3   600  2.66   7.34  44.40  41.93  444.05  2230.10    0.19   \n",
      "7               LS  1000  2.91   7.09  48.51  45.65  485.13  2428.28    0.05   \n",
      "8               SS        3.00   7.00  50.00  47.00  500.00  2500.00   -0.00   \n",
      "\n",
      "   x2_dot    y02  \n",
      "0    0.00  10.00  \n",
      "1   -6.41   9.92  \n",
      "2    0.00   9.34  \n",
      "3    4.69   4.34  \n",
      "4    3.37   5.94  \n",
      "5    1.73   7.91  \n",
      "6    0.89   8.92  \n",
      "7    0.24   9.71  \n",
      "8   -0.00  10.00  \n",
      "\n",
      "Data exported to result_data.xlsx\n"
     ]
    }
   ],
   "source": [
    "# Creating a DataFrame\n",
    "times_to_evaluate2 = [0, 1, 24, 100, 200, 400, 600, 1000, '']\n",
    "data = {\n",
    "    \"Succession Stage\": evolution_stages,\n",
    "    \"Time\": times_to_evaluate2,\n",
    "    \"z10\": [round(val, 2) for val in z10],\n",
    "    \"z20\": [round(val, 2) for val in z20],\n",
    "    \"f21\": [round(val, 2) for val in f21],\n",
    "    \"f12\": [round(val, 2) for val in f12],\n",
    "    \"x1\": [round(val, 2) for val in [x[0] for x in x_evaluated]],\n",
    "    \"x2\": [round(val, 2) for val in [x[1] for x in x_evaluated]],\n",
    "    \"x1_dot\": [round(val, 2) for val in [x[0] for x in dxdt]],\n",
    "    \"x2_dot\": [round(val, 2) for val in [x[1] for x in dxdt]],\n",
    "    \"y02\": [round(val, 2) for val in y02]\n",
    "}\n",
    "\n",
    "\n",
    "\n",
    "df = pd.DataFrame(data)\n",
    "\n",
    "# Display the DataFrame\n",
    "print(\"Resulting DataFrame:\")\n",
    "print(df)\n",
    "\n",
    "# Export to Excel\n",
    "excel_filename = \"result_data.xlsx\"\n",
    "df.to_excel(excel_filename, index=False)\n",
    "print(f\"\\nData exported to {excel_filename}\")"
   ]
  },
  {
   "cell_type": "code",
   "execution_count": 146,
   "id": "824ff6d4-4c4d-441f-9d43-9982878e303b",
   "metadata": {},
   "outputs": [],
   "source": [
    "#Creating input-output network\n",
    "epsilon = 1e-10\n",
    "I=np.identity(2,dtype='float64')\n",
    "F=[]\n",
    "T_i=[]\n",
    "G=[]\n",
    "N=[]\n",
    "TST_flow=[]\n",
    "for i in range (len(times_to_evaluate)):\n",
    "    F.append (np.array([[0, f12[i]], [f21[i], 0]]))\n",
    "    T_i.append(np.sum(F[i], axis=0))\n",
    "    G.append(F[i]/(T_i[i] + epsilon))\n",
    "    N.append(np.linalg.inv(I-G[i]))\n",
    "    "
   ]
  },
  {
   "cell_type": "code",
   "execution_count": 142,
   "id": "44087fa7-0a38-481d-b951-884f2b061748",
   "metadata": {},
   "outputs": [
    {
     "data": {
      "text/plain": [
       "array([[0.        , 0.23484521],\n",
       "       [0.0164664 , 0.        ]])"
      ]
     },
     "execution_count": 142,
     "metadata": {},
     "output_type": "execute_result"
    }
   ],
   "source": []
  },
  {
   "cell_type": "code",
   "execution_count": null,
   "id": "f07d7c92-eee7-4048-b30a-87b0bc9749a4",
   "metadata": {},
   "outputs": [],
   "source": []
  },
  {
   "cell_type": "code",
   "execution_count": 124,
   "id": "3512a1f7-418b-43c6-bd4b-35280bf2ad93",
   "metadata": {},
   "outputs": [],
   "source": [
    "#Succession Sequence II - Table 2\n",
    "# Add a large time point for evaluation\n",
    "times_to_evaluate = [0, 40, 200, 500, 700, 4300, 20100, 49700, 1000000]\n",
    "evolution_stages = ['BG', 'ES1', 'ES2', 'ES3', 'MS1', 'MS2', 'MS3', 'LS', 'SS']\n",
    "\n",
    "# Evaluate the solution at specific time points\n",
    "x_evaluated = odeint(odes_seqII, x0, times_to_evaluate)\n",
    "\n",
    "#Other values\n",
    "dxdt=[]\n",
    "z10=[]\n",
    "z20=[]\n",
    "f21=[]\n",
    "f12=[]\n",
    "y02=[]\n",
    "a10 = 0.0003\n",
    "a21 = 0.00035\n",
    "for i in range (len(times_to_evaluate)):\n",
    "    dxdt.append(odes_seqII(x_evaluated [i], times_to_evaluate[i]))\n",
    "    if i==0:\n",
    "        z10.append(0)\n",
    "        z20.append(10)\n",
    "        f21.append(0)\n",
    "        f12.append(0)\n",
    "        y02.append(10)\n",
    "    else:\n",
    "        if i<3:\n",
    "            a02 = 0.0125 \n",
    "            a12 = 0.0003\n",
    "        else:\n",
    "            a02 = 0.004 \n",
    "            a12 = 0.0002\n",
    "\n",
    "        z10.append(a10*x_evaluated [i,0])\n",
    "        z20.append(10-a10*x_evaluated [i,0])\n",
    "        f21.append(a21*x_evaluated [i,0])\n",
    "        f12.append(a12*x_evaluated [i,1])\n",
    "        y02.append(a02*x_evaluated[i, 1])"
   ]
  },
  {
   "cell_type": "code",
   "execution_count": 125,
   "id": "a681a26e-465f-46e5-86f2-49b647473578",
   "metadata": {},
   "outputs": [
    {
     "name": "stdout",
     "output_type": "stream",
     "text": [
      "Resulting DataFrame:\n",
      "  Succession Stage   Time   z10    z20   f21   f12        x1       x2  x1_dot  \\\n",
      "0               BG      0  0.00  10.00  0.00  0.00      0.00   800.00    0.00   \n",
      "1              ES1     40  0.00  10.00  0.00  0.24      9.54   792.49    0.24   \n",
      "2              ES2    200  0.01   9.99  0.02  0.23     47.05   782.82    0.23   \n",
      "3              ES3    500  0.04   9.96  0.04  0.34    121.27  1691.26    0.33   \n",
      "4              MS1    700  0.06   9.94  0.07  0.42    196.29  2084.31    0.41   \n",
      "5              MS2   4300  0.52   9.48  0.60  0.48   1727.88  2400.39    0.39   \n",
      "6              MS3  20100  1.83   8.17  2.14  0.49   6100.14  2453.04    0.19   \n",
      "7               LS  49700  2.71   7.29  3.17  0.50   9046.65  2488.52    0.05   \n",
      "8               SS         3.00   7.00  3.50  0.50  10000.00  2500.00    0.00   \n",
      "\n",
      "   x2_dot    y02  \n",
      "0    0.00  10.00  \n",
      "1   -0.14   9.91  \n",
      "2   -0.02   9.79  \n",
      "3    2.90   6.77  \n",
      "4    1.26   8.34  \n",
      "5    0.00   9.60  \n",
      "6    0.00   9.81  \n",
      "7    0.00   9.95  \n",
      "8    0.00  10.00  \n",
      "\n",
      "Data exported to result_data2.xlsx\n"
     ]
    }
   ],
   "source": [
    "# Creating a DataFrame\n",
    "times_to_evaluate2 = [0, 40, 200, 500, 700, 4300, 20100, 49700, '']\n",
    "data = {\n",
    "    \"Succession Stage\": evolution_stages,\n",
    "    \"Time\": times_to_evaluate2,\n",
    "    \"z10\": [round(val, 2) for val in z10],\n",
    "    \"z20\": [round(val, 2) for val in z20],\n",
    "    \"f21\": [round(val, 2) for val in f21],\n",
    "    \"f12\": [round(val, 2) for val in f12],\n",
    "    \"x1\": [round(val, 2) for val in [x[0] for x in x_evaluated]],\n",
    "    \"x2\": [round(val, 2) for val in [x[1] for x in x_evaluated]],\n",
    "    \"x1_dot\": [round(val, 2) for val in [x[0] for x in dxdt]],\n",
    "    \"x2_dot\": [round(val, 2) for val in [x[1] for x in dxdt]],\n",
    "    \"y02\": [round(val, 2) for val in y02]\n",
    "}\n",
    "\n",
    "df = pd.DataFrame(data)\n",
    "\n",
    "# Display the DataFrame\n",
    "print(\"Resulting DataFrame:\")\n",
    "print(df)\n",
    "\n",
    "# Export to Excel\n",
    "excel_filename = \"result_data2.xlsx\"\n",
    "df.to_excel(excel_filename, index=False)\n",
    "print(f\"\\nData exported to {excel_filename}\")"
   ]
  },
  {
   "cell_type": "code",
   "execution_count": 134,
   "id": "0745cb30-cc79-4fd7-9706-a3fd7d683ca2",
   "metadata": {},
   "outputs": [],
   "source": []
  },
  {
   "cell_type": "code",
   "execution_count": 135,
   "id": "9b81b5d9-71bb-4d7d-a6c0-a10a90de3aab",
   "metadata": {},
   "outputs": [
    {
     "data": {
      "text/plain": [
       "array([[0, 0],\n",
       "       [0, 0]])"
      ]
     },
     "execution_count": 135,
     "metadata": {},
     "output_type": "execute_result"
    }
   ],
   "source": [
    "F"
   ]
  },
  {
   "cell_type": "code",
   "execution_count": 136,
   "id": "83e76142-2c15-47cc-a19a-effc9ce30589",
   "metadata": {},
   "outputs": [
    {
     "data": {
      "text/plain": [
       "0"
      ]
     },
     "execution_count": 136,
     "metadata": {},
     "output_type": "execute_result"
    }
   ],
   "source": []
  },
  {
   "cell_type": "code",
   "execution_count": null,
   "id": "54125b72-185b-45a8-bd38-8245496df372",
   "metadata": {},
   "outputs": [],
   "source": []
  }
 ],
 "metadata": {
  "kernelspec": {
   "display_name": "Python 3 (ipykernel)",
   "language": "python",
   "name": "python3"
  },
  "language_info": {
   "codemirror_mode": {
    "name": "ipython",
    "version": 3
   },
   "file_extension": ".py",
   "mimetype": "text/x-python",
   "name": "python",
   "nbconvert_exporter": "python",
   "pygments_lexer": "ipython3",
   "version": "3.9.13"
  }
 },
 "nbformat": 4,
 "nbformat_minor": 5
}
